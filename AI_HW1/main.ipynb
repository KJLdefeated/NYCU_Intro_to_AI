{
 "cells": [
  {
   "cell_type": "code",
   "execution_count": null,
   "metadata": {
    "colab": {
     "base_uri": "https://localhost:8080/"
    },
    "executionInfo": {
     "elapsed": 618,
     "status": "ok",
     "timestamp": 1615211638776,
     "user": {
      "displayName": "lin Hu",
      "photoUrl": "https://lh3.googleusercontent.com/a-/AOh14Gh8SBQvf3NNdfRSxqKFvzBSa72RkjqpNZFUp0OAJA=s64",
      "userId": "07973462163645472846"
     },
     "user_tz": -480
    },
    "id": "_qSL8SPC-zKZ",
    "outputId": "a3a1568c-fc1f-491d-a97b-137e845c14a1"
   },
   "outputs": [],
   "source": [
    "# for google colab\n",
    "from google.colab import drive\n",
    "# mount your Google Drive\n",
    "drive.mount('/content/gdrive')"
   ]
  },
  {
   "cell_type": "code",
   "execution_count": null,
   "metadata": {
    "executionInfo": {
     "elapsed": 2229,
     "status": "ok",
     "timestamp": 1615211641762,
     "user": {
      "displayName": "lin Hu",
      "photoUrl": "https://lh3.googleusercontent.com/a-/AOh14Gh8SBQvf3NNdfRSxqKFvzBSa72RkjqpNZFUp0OAJA=s64",
      "userId": "07973462163645472846"
     },
     "user_tz": -480
    },
    "id": "GCDVUmDO-zf6"
   },
   "outputs": [],
   "source": [
    "# for google colab\n",
    "# copy all files from \"AI_HW1\" directory in Google drive to current directory\n",
    "!cp -r ./gdrive/MyDrive/AI_HW1/* ."
   ]
  },
  {
   "cell_type": "code",
   "execution_count": 1,
   "metadata": {
    "id": "hEefbCgM8zvz"
   },
   "outputs": [],
   "source": [
    "import dataset\n",
    "import adaboost\n",
    "import utils\n",
    "import detection\n",
    "import matplotlib.pyplot as plt"
   ]
  },
  {
   "cell_type": "markdown",
   "metadata": {
    "id": "SjxhBgYL8zv3"
   },
   "source": [
    "### Part 1\n",
    "Implement loadImages function in dataset.py and test the following code"
   ]
  },
  {
   "cell_type": "code",
   "execution_count": 2,
   "metadata": {
    "colab": {
     "base_uri": "https://localhost:8080/",
     "height": 271
    },
    "executionInfo": {
     "elapsed": 2190,
     "status": "ok",
     "timestamp": 1615191341630,
     "user": {
      "displayName": "lin Hu",
      "photoUrl": "https://lh3.googleusercontent.com/a-/AOh14Gh8SBQvf3NNdfRSxqKFvzBSa72RkjqpNZFUp0OAJA=s64",
      "userId": "07973462163645472846"
     },
     "user_tz": -480
    },
    "id": "fpNX767s8zv3",
    "outputId": "99494993-e104-48fc-f5a8-768e3de1780a"
   },
   "outputs": [
    {
     "name": "stdout",
     "output_type": "stream",
     "text": [
      "Loading images\n",
      "The number of training samples loaded: 200\n",
      "The number of test samples loaded: 200\n",
      "Show the first and last images of training dataset\n"
     ]
    },
    {
     "data": {
      "image/png": "[encoded data removed]",
      "text/plain": [
       "<Figure size 640x480 with 2 Axes>"
      ]
     },
     "metadata": {},
     "output_type": "display_data"
    }
   ],
   "source": [
    "print('Loading images')\n",
    "trainData = dataset.loadImages('data/train')\n",
    "print(f'The number of training samples loaded: {len(trainData)}')\n",
    "testData = dataset.loadImages('data/test')\n",
    "print(f'The number of test samples loaded: {len(testData)}')\n",
    "\n",
    "print('Show the first and last images of training dataset')\n",
    "fig, ax = plt.subplots(1, 2)\n",
    "ax[0].axis('off')\n",
    "ax[0].set_title('Face')\n",
    "ax[0].imshow(trainData[1][0], cmap='gray')\n",
    "ax[1].axis('off')\n",
    "ax[1].set_title('Non face')\n",
    "ax[1].imshow(trainData[-1][0], cmap='gray')\n",
    "plt.show()"
   ]
  },
  {
   "cell_type": "markdown",
   "metadata": {
    "id": "SxRkO4ai8zv4"
   },
   "source": [
    "### Part 2\n",
    "Implement selectBest function in adaboost.py and test the following code."
   ]
  },
  {
   "cell_type": "code",
   "execution_count": 3,
   "metadata": {
    "colab": {
     "base_uri": "https://localhost:8080/"
    },
    "executionInfo": {
     "elapsed": 48093,
     "status": "ok",
     "timestamp": 1614941135959,
     "user": {
      "displayName": "lin Hu",
      "photoUrl": "https://lh3.googleusercontent.com/a-/AOh14Gh8SBQvf3NNdfRSxqKFvzBSa72RkjqpNZFUp0OAJA=s64",
      "userId": "07973462163645472846"
     },
     "user_tz": -480
    },
    "id": "MjhGWZkR8zv5",
    "outputId": "f472afd7-9e41-49af-d119-d3400e5cc4d5"
   },
   "outputs": [
    {
     "name": "stdout",
     "output_type": "stream",
     "text": [
      "Start training your classifier\n",
      "Computing integral images\n",
      "Building features\n",
      "Applying features to dataset\n",
      "Selecting best features\n",
      "Selected 5171 potential features\n",
      "Initialize weights\n",
      "Run No. of Iteration: 1\n",
      "Chose classifier: Weak Clf (threshold=0, polarity=1, Haar feature (positive regions=[RectangleRegion(8, 0, 1, 3), RectangleRegion(7, 3, 1, 3)], negative regions=[RectangleRegion(7, 0, 1, 3), RectangleRegion(8, 3, 1, 3)]) with accuracy: 162.000000 and alpha: 1.450010\n",
      "\n",
      "Evaluate your classifier with training dataset\n",
      "False Positive Rate: 28/100 (0.280000)\n",
      "False Negative Rate: 10/100 (0.100000)\n",
      "Accuracy: 162/200 (0.810000)\n",
      "\n",
      "Evaluate your classifier with test dataset\n",
      "False Positive Rate: 49/100 (0.490000)\n",
      "False Negative Rate: 55/100 (0.550000)\n",
      "Accuracy: 96/200 (0.480000)\n"
     ]
    },
    {
     "data": {
      "text/plain": [
       "0.48"
      ]
     },
     "execution_count": 3,
     "metadata": {},
     "output_type": "execute_result"
    }
   ],
   "source": [
    "print('Start training your classifier')\n",
    "clf = adaboost.Adaboost(T=1)\n",
    "clf.train(trainData)\n",
    "\n",
    "print('\\nEvaluate your classifier with training dataset')\n",
    "utils.evaluate(clf, trainData)\n",
    "\n",
    "print('\\nEvaluate your classifier with test dataset')\n",
    "utils.evaluate(clf, testData)"
   ]
  },
  {
   "cell_type": "markdown",
   "metadata": {},
   "source": [
    "### Part 3\n",
    "Modify difference values at parameter T of the Adaboost algorithm at Part 2. And find better results. Please test value 1~10 at least."
   ]
  },
  {
   "cell_type": "code",
   "execution_count": null,
   "metadata": {
    "scrolled": true
   },
   "outputs": [
    {
     "name": "stdout",
     "output_type": "stream",
     "text": [
      "--------------\n",
      "Training on classifier 1\n",
      "Computing integral images\n",
      "Building features\n",
      "Applying features to dataset\n",
      "Selecting best features\n",
      "Selected 5171 potential features\n",
      "Initialize weights\n",
      "Run No. of Iteration: 1\n",
      "Chose classifier: Weak Clf (threshold=0, polarity=1, Haar feature (positive regions=[RectangleRegion(8, 0, 1, 3), RectangleRegion(7, 3, 1, 3)], negative regions=[RectangleRegion(7, 0, 1, 3), RectangleRegion(8, 3, 1, 3)]) with accuracy: 162.000000 and alpha: 1.450010\n",
      "\n",
      "Evaluate your classifier with training dataset\n",
      "False Positive Rate: 28/100 (0.280000)\n",
      "False Negative Rate: 10/100 (0.100000)\n",
      "Accuracy: 162/200 (0.810000)\n",
      "\n",
      "Evaluate your classifier with test dataset\n",
      "False Positive Rate: 49/100 (0.490000)\n",
      "False Negative Rate: 55/100 (0.550000)\n",
      "Accuracy: 96/200 (0.480000)\n",
      "--------------\n",
      "--------------\n",
      "Training on classifier 2\n",
      "Computing integral images\n",
      "Building features\n",
      "Applying features to dataset\n",
      "Selecting best features\n",
      "Selected 5171 potential features\n",
      "Initialize weights\n",
      "Run No. of Iteration: 1\n",
      "Chose classifier: Weak Clf (threshold=0, polarity=1, Haar feature (positive regions=[RectangleRegion(8, 0, 1, 3), RectangleRegion(7, 3, 1, 3)], negative regions=[RectangleRegion(7, 0, 1, 3), RectangleRegion(8, 3, 1, 3)]) with accuracy: 162.000000 and alpha: 1.450010\n",
      "Run No. of Iteration: 2\n",
      "Chose classifier: Weak Clf (threshold=0, polarity=1, Haar feature (positive regions=[RectangleRegion(4, 8, 2, 9)], negative regions=[RectangleRegion(2, 8, 2, 9)]) with accuracy: 156.000000 and alpha: 1.286922\n",
      "\n",
      "Evaluate your classifier with training dataset\n",
      "False Positive Rate: 28/100 (0.280000)\n",
      "False Negative Rate: 10/100 (0.100000)\n",
      "Accuracy: 162/200 (0.810000)\n",
      "\n",
      "Evaluate your classifier with test dataset\n",
      "False Positive Rate: 49/100 (0.490000)\n",
      "False Negative Rate: 55/100 (0.550000)\n",
      "Accuracy: 96/200 (0.480000)\n",
      "--------------\n",
      "--------------\n",
      "Training on classifier 3\n",
      "Computing integral images\n",
      "Building features\n",
      "Applying features to dataset\n",
      "Selecting best features\n",
      "Selected 5171 potential features\n",
      "Initialize weights\n",
      "Run No. of Iteration: 1\n",
      "Chose classifier: Weak Clf (threshold=0, polarity=1, Haar feature (positive regions=[RectangleRegion(8, 0, 1, 3), RectangleRegion(7, 3, 1, 3)], negative regions=[RectangleRegion(7, 0, 1, 3), RectangleRegion(8, 3, 1, 3)]) with accuracy: 162.000000 and alpha: 1.450010\n",
      "Run No. of Iteration: 2\n",
      "Chose classifier: Weak Clf (threshold=0, polarity=1, Haar feature (positive regions=[RectangleRegion(4, 8, 2, 9)], negative regions=[RectangleRegion(2, 8, 2, 9)]) with accuracy: 156.000000 and alpha: 1.286922\n",
      "Run No. of Iteration: 3\n",
      "Chose classifier: Weak Clf (threshold=0, polarity=1, Haar feature (positive regions=[RectangleRegion(16, 16, 1, 2)], negative regions=[RectangleRegion(15, 16, 1, 2)]) with accuracy: 155.000000 and alpha: 1.011738\n",
      "\n",
      "Evaluate your classifier with training dataset\n",
      "False Positive Rate: 23/100 (0.230000)\n",
      "False Negative Rate: 1/100 (0.010000)\n",
      "Accuracy: 176/200 (0.880000)\n",
      "\n",
      "Evaluate your classifier with test dataset\n",
      "False Positive Rate: 48/100 (0.480000)\n",
      "False Negative Rate: 46/100 (0.460000)\n",
      "Accuracy: 106/200 (0.530000)\n",
      "--------------\n",
      "--------------\n",
      "Training on classifier 4\n",
      "Computing integral images\n",
      "Building features\n",
      "Applying features to dataset\n",
      "Selecting best features\n",
      "Selected 5171 potential features\n",
      "Initialize weights\n",
      "Run No. of Iteration: 1\n",
      "Chose classifier: Weak Clf (threshold=0, polarity=1, Haar feature (positive regions=[RectangleRegion(8, 0, 1, 3), RectangleRegion(7, 3, 1, 3)], negative regions=[RectangleRegion(7, 0, 1, 3), RectangleRegion(8, 3, 1, 3)]) with accuracy: 162.000000 and alpha: 1.450010\n",
      "Run No. of Iteration: 2\n",
      "Chose classifier: Weak Clf (threshold=0, polarity=1, Haar feature (positive regions=[RectangleRegion(4, 8, 2, 9)], negative regions=[RectangleRegion(2, 8, 2, 9)]) with accuracy: 156.000000 and alpha: 1.286922\n",
      "Run No. of Iteration: 3\n",
      "Chose classifier: Weak Clf (threshold=0, polarity=1, Haar feature (positive regions=[RectangleRegion(16, 16, 1, 2)], negative regions=[RectangleRegion(15, 16, 1, 2)]) with accuracy: 155.000000 and alpha: 1.011738\n",
      "Run No. of Iteration: 4\n",
      "Chose classifier: Weak Clf (threshold=0, polarity=1, Haar feature (positive regions=[RectangleRegion(4, 14, 8, 2)], negative regions=[RectangleRegion(4, 16, 8, 2)]) with accuracy: 153.000000 and alpha: 0.908680\n",
      "\n",
      "Evaluate your classifier with training dataset\n",
      "False Positive Rate: 26/100 (0.260000)\n",
      "False Negative Rate: 2/100 (0.020000)\n",
      "Accuracy: 172/200 (0.860000)\n",
      "\n",
      "Evaluate your classifier with test dataset\n",
      "False Positive Rate: 49/100 (0.490000)\n",
      "False Negative Rate: 56/100 (0.560000)\n",
      "Accuracy: 95/200 (0.475000)\n",
      "--------------\n",
      "--------------\n",
      "Training on classifier 5\n",
      "Computing integral images\n",
      "Building features\n",
      "Applying features to dataset\n",
      "Selecting best features\n",
      "Selected 5171 potential features\n",
      "Initialize weights\n",
      "Run No. of Iteration: 1\n",
      "Chose classifier: Weak Clf (threshold=0, polarity=1, Haar feature (positive regions=[RectangleRegion(8, 0, 1, 3), RectangleRegion(7, 3, 1, 3)], negative regions=[RectangleRegion(7, 0, 1, 3), RectangleRegion(8, 3, 1, 3)]) with accuracy: 162.000000 and alpha: 1.450010\n",
      "Run No. of Iteration: 2\n",
      "Chose classifier: Weak Clf (threshold=0, polarity=1, Haar feature (positive regions=[RectangleRegion(4, 8, 2, 9)], negative regions=[RectangleRegion(2, 8, 2, 9)]) with accuracy: 156.000000 and alpha: 1.286922\n",
      "Run No. of Iteration: 3\n",
      "Chose classifier: Weak Clf (threshold=0, polarity=1, Haar feature (positive regions=[RectangleRegion(16, 16, 1, 2)], negative regions=[RectangleRegion(15, 16, 1, 2)]) with accuracy: 155.000000 and alpha: 1.011738\n",
      "Run No. of Iteration: 4\n",
      "Chose classifier: Weak Clf (threshold=0, polarity=1, Haar feature (positive regions=[RectangleRegion(4, 14, 8, 2)], negative regions=[RectangleRegion(4, 16, 8, 2)]) with accuracy: 153.000000 and alpha: 0.908680\n",
      "Run No. of Iteration: 5\n",
      "Chose classifier: Weak Clf (threshold=0, polarity=1, Haar feature (positive regions=[RectangleRegion(10, 8, 1, 1)], negative regions=[RectangleRegion(9, 8, 1, 1)]) with accuracy: 155.000000 and alpha: 0.924202\n",
      "\n",
      "Evaluate your classifier with training dataset\n",
      "False Positive Rate: 23/100 (0.230000)\n",
      "False Negative Rate: 0/100 (0.000000)\n",
      "Accuracy: 177/200 (0.885000)\n",
      "\n",
      "Evaluate your classifier with test dataset\n",
      "False Positive Rate: 49/100 (0.490000)\n",
      "False Negative Rate: 43/100 (0.430000)\n",
      "Accuracy: 108/200 (0.540000)\n",
      "--------------\n",
      "--------------\n",
      "Training on classifier 6\n",
      "Computing integral images\n",
      "Building features\n",
      "Applying features to dataset\n",
      "Selecting best features\n",
      "Selected 5171 potential features\n",
      "Initialize weights\n",
      "Run No. of Iteration: 1\n",
      "Chose classifier: Weak Clf (threshold=0, polarity=1, Haar feature (positive regions=[RectangleRegion(8, 0, 1, 3), RectangleRegion(7, 3, 1, 3)], negative regions=[RectangleRegion(7, 0, 1, 3), RectangleRegion(8, 3, 1, 3)]) with accuracy: 162.000000 and alpha: 1.450010\n",
      "Run No. of Iteration: 2\n",
      "Chose classifier: Weak Clf (threshold=0, polarity=1, Haar feature (positive regions=[RectangleRegion(4, 8, 2, 9)], negative regions=[RectangleRegion(2, 8, 2, 9)]) with accuracy: 156.000000 and alpha: 1.286922\n",
      "Run No. of Iteration: 3\n",
      "Chose classifier: Weak Clf (threshold=0, polarity=1, Haar feature (positive regions=[RectangleRegion(16, 16, 1, 2)], negative regions=[RectangleRegion(15, 16, 1, 2)]) with accuracy: 155.000000 and alpha: 1.011738\n",
      "Run No. of Iteration: 4\n",
      "Chose classifier: Weak Clf (threshold=0, polarity=1, Haar feature (positive regions=[RectangleRegion(4, 14, 8, 2)], negative regions=[RectangleRegion(4, 16, 8, 2)]) with accuracy: 153.000000 and alpha: 0.908680\n",
      "Run No. of Iteration: 5\n",
      "Chose classifier: Weak Clf (threshold=0, polarity=1, Haar feature (positive regions=[RectangleRegion(10, 8, 1, 1)], negative regions=[RectangleRegion(9, 8, 1, 1)]) with accuracy: 155.000000 and alpha: 0.924202\n",
      "Run No. of Iteration: 6\n",
      "Chose classifier: Weak Clf (threshold=0, polarity=1, Haar feature (positive regions=[RectangleRegion(7, 3, 3, 8)], negative regions=[RectangleRegion(4, 3, 3, 8)]) with accuracy: 78.000000 and alpha: 0.769604\n",
      "\n",
      "Evaluate your classifier with training dataset\n",
      "False Positive Rate: 22/100 (0.220000)\n",
      "False Negative Rate: 0/100 (0.000000)\n",
      "Accuracy: 178/200 (0.890000)\n",
      "\n",
      "Evaluate your classifier with test dataset\n",
      "False Positive Rate: 50/100 (0.500000)\n",
      "False Negative Rate: 48/100 (0.480000)\n",
      "Accuracy: 102/200 (0.510000)\n",
      "--------------\n",
      "--------------\n",
      "Training on classifier 7\n",
      "Computing integral images\n",
      "Building features\n"
     ]
    },
    {
     "name": "stdout",
     "output_type": "stream",
     "text": [
      "Applying features to dataset\n",
      "Selecting best features\n",
      "Selected 5171 potential features\n",
      "Initialize weights\n",
      "Run No. of Iteration: 1\n",
      "Chose classifier: Weak Clf (threshold=0, polarity=1, Haar feature (positive regions=[RectangleRegion(8, 0, 1, 3), RectangleRegion(7, 3, 1, 3)], negative regions=[RectangleRegion(7, 0, 1, 3), RectangleRegion(8, 3, 1, 3)]) with accuracy: 162.000000 and alpha: 1.450010\n",
      "Run No. of Iteration: 2\n",
      "Chose classifier: Weak Clf (threshold=0, polarity=1, Haar feature (positive regions=[RectangleRegion(4, 8, 2, 9)], negative regions=[RectangleRegion(2, 8, 2, 9)]) with accuracy: 156.000000 and alpha: 1.286922\n",
      "Run No. of Iteration: 3\n",
      "Chose classifier: Weak Clf (threshold=0, polarity=1, Haar feature (positive regions=[RectangleRegion(16, 16, 1, 2)], negative regions=[RectangleRegion(15, 16, 1, 2)]) with accuracy: 155.000000 and alpha: 1.011738\n",
      "Run No. of Iteration: 4\n",
      "Chose classifier: Weak Clf (threshold=0, polarity=1, Haar feature (positive regions=[RectangleRegion(4, 14, 8, 2)], negative regions=[RectangleRegion(4, 16, 8, 2)]) with accuracy: 153.000000 and alpha: 0.908680\n",
      "Run No. of Iteration: 5\n",
      "Chose classifier: Weak Clf (threshold=0, polarity=1, Haar feature (positive regions=[RectangleRegion(10, 8, 1, 1)], negative regions=[RectangleRegion(9, 8, 1, 1)]) with accuracy: 155.000000 and alpha: 0.924202\n",
      "Run No. of Iteration: 6\n",
      "Chose classifier: Weak Clf (threshold=0, polarity=1, Haar feature (positive regions=[RectangleRegion(7, 3, 3, 8)], negative regions=[RectangleRegion(4, 3, 3, 8)]) with accuracy: 78.000000 and alpha: 0.769604\n",
      "Run No. of Iteration: 7\n",
      "Chose classifier: Weak Clf (threshold=0, polarity=1, Haar feature (positive regions=[RectangleRegion(5, 2, 10, 2)], negative regions=[RectangleRegion(5, 4, 10, 2)]) with accuracy: 145.000000 and alpha: 0.719869\n",
      "\n",
      "Evaluate your classifier with training dataset\n",
      "False Positive Rate: 20/100 (0.200000)\n",
      "False Negative Rate: 0/100 (0.000000)\n",
      "Accuracy: 180/200 (0.900000)\n",
      "\n",
      "Evaluate your classifier with test dataset\n",
      "False Positive Rate: 52/100 (0.520000)\n",
      "False Negative Rate: 39/100 (0.390000)\n",
      "Accuracy: 109/200 (0.545000)\n",
      "--------------\n",
      "--------------\n",
      "Training on classifier 8\n",
      "Computing integral images\n",
      "Building features\n",
      "Applying features to dataset\n",
      "Selecting best features\n",
      "Selected 5171 potential features\n",
      "Initialize weights\n",
      "Run No. of Iteration: 1\n",
      "Chose classifier: Weak Clf (threshold=0, polarity=1, Haar feature (positive regions=[RectangleRegion(8, 0, 1, 3), RectangleRegion(7, 3, 1, 3)], negative regions=[RectangleRegion(7, 0, 1, 3), RectangleRegion(8, 3, 1, 3)]) with accuracy: 162.000000 and alpha: 1.450010\n",
      "Run No. of Iteration: 2\n",
      "Chose classifier: Weak Clf (threshold=0, polarity=1, Haar feature (positive regions=[RectangleRegion(4, 8, 2, 9)], negative regions=[RectangleRegion(2, 8, 2, 9)]) with accuracy: 156.000000 and alpha: 1.286922\n",
      "Run No. of Iteration: 3\n",
      "Chose classifier: Weak Clf (threshold=0, polarity=1, Haar feature (positive regions=[RectangleRegion(16, 16, 1, 2)], negative regions=[RectangleRegion(15, 16, 1, 2)]) with accuracy: 155.000000 and alpha: 1.011738\n",
      "Run No. of Iteration: 4\n",
      "Chose classifier: Weak Clf (threshold=0, polarity=1, Haar feature (positive regions=[RectangleRegion(4, 14, 8, 2)], negative regions=[RectangleRegion(4, 16, 8, 2)]) with accuracy: 153.000000 and alpha: 0.908680\n",
      "Run No. of Iteration: 5\n",
      "Chose classifier: Weak Clf (threshold=0, polarity=1, Haar feature (positive regions=[RectangleRegion(10, 8, 1, 1)], negative regions=[RectangleRegion(9, 8, 1, 1)]) with accuracy: 155.000000 and alpha: 0.924202\n",
      "Run No. of Iteration: 6\n",
      "Chose classifier: Weak Clf (threshold=0, polarity=1, Haar feature (positive regions=[RectangleRegion(7, 3, 3, 8)], negative regions=[RectangleRegion(4, 3, 3, 8)]) with accuracy: 78.000000 and alpha: 0.769604\n",
      "Run No. of Iteration: 7\n",
      "Chose classifier: Weak Clf (threshold=0, polarity=1, Haar feature (positive regions=[RectangleRegion(5, 2, 10, 2)], negative regions=[RectangleRegion(5, 4, 10, 2)]) with accuracy: 145.000000 and alpha: 0.719869\n",
      "Run No. of Iteration: 8\n",
      "Chose classifier: Weak Clf (threshold=0, polarity=1, Haar feature (positive regions=[RectangleRegion(12, 11, 5, 1)], negative regions=[RectangleRegion(12, 12, 5, 1)]) with accuracy: 72.000000 and alpha: 0.685227\n",
      "\n",
      "Evaluate your classifier with training dataset\n",
      "False Positive Rate: 18/100 (0.180000)\n",
      "False Negative Rate: 0/100 (0.000000)\n",
      "Accuracy: 182/200 (0.910000)\n",
      "\n",
      "Evaluate your classifier with test dataset\n",
      "False Positive Rate: 47/100 (0.470000)\n",
      "False Negative Rate: 43/100 (0.430000)\n",
      "Accuracy: 110/200 (0.550000)\n",
      "--------------\n",
      "--------------\n",
      "Training on classifier 9\n",
      "Computing integral images\n",
      "Building features\n",
      "Applying features to dataset\n",
      "Selecting best features\n",
      "Selected 5171 potential features\n",
      "Initialize weights\n",
      "Run No. of Iteration: 1\n",
      "Chose classifier: Weak Clf (threshold=0, polarity=1, Haar feature (positive regions=[RectangleRegion(8, 0, 1, 3), RectangleRegion(7, 3, 1, 3)], negative regions=[RectangleRegion(7, 0, 1, 3), RectangleRegion(8, 3, 1, 3)]) with accuracy: 162.000000 and alpha: 1.450010\n",
      "Run No. of Iteration: 2\n",
      "Chose classifier: Weak Clf (threshold=0, polarity=1, Haar feature (positive regions=[RectangleRegion(4, 8, 2, 9)], negative regions=[RectangleRegion(2, 8, 2, 9)]) with accuracy: 156.000000 and alpha: 1.286922\n",
      "Run No. of Iteration: 3\n",
      "Chose classifier: Weak Clf (threshold=0, polarity=1, Haar feature (positive regions=[RectangleRegion(16, 16, 1, 2)], negative regions=[RectangleRegion(15, 16, 1, 2)]) with accuracy: 155.000000 and alpha: 1.011738\n",
      "Run No. of Iteration: 4\n",
      "Chose classifier: Weak Clf (threshold=0, polarity=1, Haar feature (positive regions=[RectangleRegion(4, 14, 8, 2)], negative regions=[RectangleRegion(4, 16, 8, 2)]) with accuracy: 153.000000 and alpha: 0.908680\n",
      "Run No. of Iteration: 5\n",
      "Chose classifier: Weak Clf (threshold=0, polarity=1, Haar feature (positive regions=[RectangleRegion(10, 8, 1, 1)], negative regions=[RectangleRegion(9, 8, 1, 1)]) with accuracy: 155.000000 and alpha: 0.924202\n",
      "Run No. of Iteration: 6\n",
      "Chose classifier: Weak Clf (threshold=0, polarity=1, Haar feature (positive regions=[RectangleRegion(7, 3, 3, 8)], negative regions=[RectangleRegion(4, 3, 3, 8)]) with accuracy: 78.000000 and alpha: 0.769604\n",
      "Run No. of Iteration: 7\n",
      "Chose classifier: Weak Clf (threshold=0, polarity=1, Haar feature (positive regions=[RectangleRegion(5, 2, 10, 2)], negative regions=[RectangleRegion(5, 4, 10, 2)]) with accuracy: 145.000000 and alpha: 0.719869\n",
      "Run No. of Iteration: 8\n",
      "Chose classifier: Weak Clf (threshold=0, polarity=1, Haar feature (positive regions=[RectangleRegion(12, 11, 5, 1)], negative regions=[RectangleRegion(12, 12, 5, 1)]) with accuracy: 72.000000 and alpha: 0.685227\n",
      "Run No. of Iteration: 9\n",
      "Chose classifier: Weak Clf (threshold=0, polarity=1, Haar feature (positive regions=[RectangleRegion(10, 4, 1, 1)], negative regions=[RectangleRegion(9, 4, 1, 1)]) with accuracy: 152.000000 and alpha: 0.707795\n",
      "\n",
      "Evaluate your classifier with training dataset\n",
      "False Positive Rate: 20/100 (0.200000)\n",
      "False Negative Rate: 0/100 (0.000000)\n",
      "Accuracy: 180/200 (0.900000)\n",
      "\n",
      "Evaluate your classifier with test dataset\n",
      "False Positive Rate: 48/100 (0.480000)\n",
      "False Negative Rate: 37/100 (0.370000)\n",
      "Accuracy: 115/200 (0.575000)\n",
      "--------------\n",
      "--------------\n",
      "Training on classifier 10\n",
      "Computing integral images\n",
      "Building features\n",
      "Applying features to dataset\n"
     ]
    }
   ],
   "source": [
    "clfs = []\n",
    "best_test_i = 0\n",
    "train_accs = []\n",
    "test_accs = []\n",
    "for i in range(1,11):\n",
    "    print(\"--------------\")\n",
    "    print('Training on classifier', i)\n",
    "    clf_ = adaboost.Adaboost(T=i)\n",
    "    clf_.train(trainData)\n",
    "\n",
    "    print('\\nEvaluate your classifier with training dataset')\n",
    "    train_acc = utils.evaluate(clf_, trainData)\n",
    "    train_accs.append(train_acc)\n",
    "\n",
    "    print('\\nEvaluate your classifier with test dataset')\n",
    "    test_acc = utils.evaluate(clf_, testData)\n",
    "    test_accs.append(test_acc)\n",
    "    clfs.append(clf_)\n",
    "    print(\"--------------\")\n",
    "    if test_acc > test_accs[best_test_i]:\n",
    "        best_test_i = i-1\n",
    "\n",
    "clf = clfs[best_test_i]"
   ]
  },
  {
   "cell_type": "code",
   "execution_count": null,
   "metadata": {},
   "outputs": [],
   "source": [
    "print(train_accs)\n",
    "print(test_accs)"
   ]
  },
  {
   "cell_type": "code",
   "execution_count": null,
   "metadata": {},
   "outputs": [],
   "source": [
    "print('When T = {}, the adaboost works best'.format(best_test_i+1))\n",
    "T = range(1, 11)\n",
    "plt.plot(T, train_accs, 'bo-', label='Training Accuracy')\n",
    "plt.plot(T, test_accs, 'rs-', label='Test Accuracy')\n",
    "plt.xlabel('T')\n",
    "plt.ylabel('Accuracy')\n",
    "plt.title('Training and Test Accuracy')\n",
    "plt.legend(loc='lower right')\n",
    "plt.show()"
   ]
  },
  {
   "cell_type": "markdown",
   "metadata": {
    "id": "CdHB7o-l8zv5"
   },
   "source": [
    "### Part 4\n",
    "Implement detect function in detection.py and test the following code."
   ]
  },
  {
   "cell_type": "code",
   "execution_count": null,
   "metadata": {
    "colab": {
     "base_uri": "https://localhost:8080/",
     "height": 517
    },
    "executionInfo": {
     "elapsed": 2101,
     "status": "ok",
     "timestamp": 1614941905892,
     "user": {
      "displayName": "lin Hu",
      "photoUrl": "https://lh3.googleusercontent.com/a-/AOh14Gh8SBQvf3NNdfRSxqKFvzBSa72RkjqpNZFUp0OAJA=s64",
      "userId": "07973462163645472846"
     },
     "user_tz": -480
    },
    "id": "yCLPKLd_8zv5",
    "outputId": "4b92d13c-0205-40a2-b934-f2cd30cc8e01"
   },
   "outputs": [],
   "source": [
    "print('Detect faces at the assigned lacation using your classifier')\n",
    "img = detection.detect('data/detect/detectData.txt', clf)"
   ]
  },
  {
   "cell_type": "markdown",
   "metadata": {},
   "source": [
    "### Part 5\n",
    "Test classifier on your own images\n"
   ]
  },
  {
   "cell_type": "code",
   "execution_count": null,
   "metadata": {},
   "outputs": [],
   "source": [
    "print('\\nDetect faces on your own images')\n",
    "detection.detect_selfdata('data/Self_made_detect/coord.txt', clf)"
   ]
  },
  {
   "cell_type": "code",
   "execution_count": 9,
   "metadata": {
    "executionInfo": {
     "elapsed": 884,
     "status": "ok",
     "timestamp": 1615212665639,
     "user": {
      "displayName": "lin Hu",
      "photoUrl": "https://lh3.googleusercontent.com/a-/AOh14Gh8SBQvf3NNdfRSxqKFvzBSa72RkjqpNZFUp0OAJA=s64",
      "userId": "07973462163645472846"
     },
     "user_tz": -480
    },
    "id": "e2E__lF88zv5"
   },
   "outputs": [
    {
     "name": "stdout",
     "output_type": "stream",
     "text": [
      "cp: ./gdrive/MyDrive/AI_HW1 is not a directory\r\n"
     ]
    }
   ],
   "source": [
    "# for google colab\n",
    "# REMEMBER to execute this line once you've modified any .py code!\n",
    "# Save the .py code you have modified to your Google Drive\n",
    "!cp ./*.py ./gdrive/MyDrive/AI_HW1/"
   ]
  }
 ],
 "metadata": {
  "colab": {
   "collapsed_sections": [
    "SjxhBgYL8zv3",
    "SxRkO4ai8zv4"
   ],
   "name": "main.ipynb",
   "provenance": [],
   "toc_visible": true
  },
  "kernelspec": {
   "display_name": "Python 3 (ipykernel)",
   "language": "python",
   "name": "python3"
  },
  "language_info": {
   "codemirror_mode": {
    "name": "ipython",
    "version": 3
   },
   "file_extension": ".py",
   "mimetype": "text/x-python",
   "name": "python",
   "nbconvert_exporter": "python",
   "pygments_lexer": "ipython3",
   "version": "3.9.13"
  },
  "vscode": {
   "interpreter": {
    "hash": "c1c1857aa9dde0aea87e20b9d977a13667d6aa33d0b6596aa2cd761d784807fb"
   }
  }
 },
 "nbformat": 4,
 "nbformat_minor": 1
}
